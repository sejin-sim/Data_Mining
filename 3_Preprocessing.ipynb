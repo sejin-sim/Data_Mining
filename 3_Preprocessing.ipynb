{
  "nbformat": 4,
  "nbformat_minor": 0,
  "metadata": {
    "colab": {
      "name": "[SJ] Preprocessing.ipynb",
      "provenance": [],
      "collapsed_sections": [],
      "mount_file_id": "1EdgURp7zCiYZotF-SpdgQHCx33yEEOHm",
      "authorship_tag": "ABX9TyN7JMA/bG5Tomhg35pY6OqN",
      "include_colab_link": true
    },
    "kernelspec": {
      "name": "python3",
      "display_name": "Python 3"
    }
  },
  "cells": [
    {
      "cell_type": "markdown",
      "metadata": {
        "id": "view-in-github",
        "colab_type": "text"
      },
      "source": [
        "<a href=\"https://colab.research.google.com/github/sejin-sim/Data_Mining/blob/main/3_Preprocessing.ipynb\" target=\"_parent\"><img src=\"https://colab.research.google.com/assets/colab-badge.svg\" alt=\"Open In Colab\"/></a>"
      ]
    },
    {
      "cell_type": "markdown",
      "metadata": {
        "id": "XPTVXdiN9gN9"
      },
      "source": [
        "# Preprocessing\n",
        "1. Binarization\n",
        "2. Mean removal"
      ]
    },
    {
      "cell_type": "code",
      "metadata": {
        "id": "6tej0QTr80tp",
        "outputId": "71e8c990-8c41-4672-af68-7e87d3cb15b3",
        "colab": {
          "base_uri": "https://localhost:8080/",
          "height": 141
        }
      },
      "source": [
        "# Binarizer (Binarization) : 0 or 1\n",
        "\n",
        "from sklearn import preprocessing\n",
        "import numpy as np\n",
        "\n",
        "data = np.array([[2.2, 5.9, -1.8], \n",
        "                 [5.4, -3.2, -5.1], \n",
        "                 [-1.9, 4.2, 3.2]])\n",
        "\n",
        "bindata = preprocessing.Binarizer(threshold=1.5).transform(data) # threshold : 임계값\n",
        "\n",
        "print('Binarized data\\n\\n', bindata)\n",
        "# 즉 1.5 기준으로 임계값으로 0 or 1을 구분\n",
        "\n",
        "print('Mean (before)= ', data.mean(axis=0))              # 평균 axis 0 열, 1 행\n",
        "print('Standarr Deviation (before)= ', data.std(axis=0)) # 표준편차"
      ],
      "execution_count": null,
      "outputs": [
        {
          "output_type": "stream",
          "text": [
            "Binarized data\n",
            "\n",
            " [[1. 1. 0.]\n",
            " [1. 0. 0.]\n",
            " [0. 1. 1.]]\n",
            "Mean (before)=  [ 1.9         2.3        -1.23333333]\n",
            "Standarr Deviation (before)=  [2.98775278 3.95052739 3.41207008]\n"
          ],
          "name": "stdout"
        }
      ]
    },
    {
      "cell_type": "markdown",
      "metadata": {
        "id": "Zm0eYRdc-Ush"
      },
      "source": [
        "# 스케일링(scaling)\n",
        "\n",
        "- 연속형 데이터의 특성 단위가 다를 경우 과대 혹은 과소한 파라미터가 지배적으로 추정에 영향을 미출 수 있기 때문에 모든 자료에 대해서 동일한 범위 내에서 변환을 하는 것이다.\n",
        "- 만약 특성변수의 단위가 큰 차이를 보이면 스케일링한 데이터와 하지 않은 데이터 간의 정확도는 크게 차이를 보임\n",
        "- ML/Deep ML을 수행하기 이전에 scaling을 수행하여야 한다..\n",
        "\n",
        "   1) Min-Max scaling   \n",
        "   > ML / Deep ML의 가장 일반적인 scaling  \n",
        "(각 특성의 변수 값 – 최소값) / (최대값 – 최소값)\n",
        "모든 값은 0 이상의 값을 가짐( >= 0)   \n",
        " ![image.png](data:image/png;base64,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)\n",
        "\n",
        "    2) Standardization\n",
        "    > 각 수치와 평균의 차이를 표준편차로 나눈 값.\n",
        "평균이 0, 표준편차가 1이 되는 통계적인 자료 표준화의 대표값\n",
        "일반적인 범위 이상의  경우는 매우 큰 음의 값 혹은 매우 큰 양의 값이 될 수 있다.   \n",
        "![image.png](data:image/png;base64,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)\n"
      ]
    },
    {
      "cell_type": "code",
      "metadata": {
        "id": "qMrGcNzsAEUP",
        "outputId": "be8aa53b-f697-40ce-85aa-4611b7cb970b",
        "colab": {
          "base_uri": "https://localhost:8080/",
          "height": 87
        }
      },
      "source": [
        "# min-max - MinMaxScaler\n",
        "\n",
        "X = np.array([ [2.2, 5.9, -1.8], \n",
        "                [5.4, -3.2, -5.1], \n",
        "                [-1.9, 4.2, 3.2]])\n",
        "\n",
        "# 코드 구현\n",
        "X_std = (X - X.min(axis=0)) / (X.max(axis=0) - X.min(axis=0))\n",
        "\n",
        "# 패키지 사용\n",
        "minmax_scaler = preprocessing.MinMaxScaler(feature_range=(0,1))\n",
        "data_minmax = minmax_scaler.fit_transform(data)\n",
        "print('MinMaxScaler applied on the data:\\n', data_minmax)"
      ],
      "execution_count": null,
      "outputs": [
        {
          "output_type": "stream",
          "text": [
            "MinMaxScaler applied on the data:\n",
            " [[0.56164384 1.         0.39759036]\n",
            " [1.         0.         0.        ]\n",
            " [0.         0.81318681 1.        ]]\n"
          ],
          "name": "stdout"
        }
      ]
    },
    {
      "cell_type": "code",
      "metadata": {
        "id": "wIXrq5Pm_HpD",
        "outputId": "34e861ba-4e7c-4ee4-cf9b-c4126ef62a26",
        "colab": {
          "base_uri": "https://localhost:8080/",
          "height": 105
        }
      },
      "source": [
        "# standardization - scale\n",
        "\n",
        "X = np.array([ [2.2, 5.9, -1.8], \n",
        "                [5.4, -3.2, -5.1], \n",
        "                [-1.9, 4.2, 3.2]])\n",
        " \n",
        "# 코드 구현\n",
        "Y=X-X.mean(axis=0)\n",
        "z=Y/X.std(axis=0)\n",
        "\n",
        "# 패키지 사용\n",
        "scaled_data = preprocessing.scale(data)\n",
        "print(scaled_data)\n",
        "\n",
        "print('Mean (after)= ', scaled_data.mean(axis=0))\n",
        "print('Standard Deviation (after)= ', scaled_data.std(axis=0))"
      ],
      "execution_count": null,
      "outputs": [
        {
          "output_type": "stream",
          "text": [
            "[[ 0.10040991  0.91127074 -0.16607709]\n",
            " [ 1.171449   -1.39221918 -1.1332319 ]\n",
            " [-1.27185891  0.48094844  1.29930899]]\n",
            "Mean (after)=  [0.00000000e+00 0.00000000e+00 7.40148683e-17]\n",
            "Standard Deviation (after)=  [1. 1. 1.]\n"
          ],
          "name": "stdout"
        }
      ]
    },
    {
      "cell_type": "markdown",
      "metadata": {
        "id": "WsBaTkgxAdfv"
      },
      "source": [
        "# Normalization : 정규화\n",
        "\n",
        "1) Least absolute deviations (LAD):  최소 절대 오차   \n",
        "> 1) 각 특징 벡터의 값을 공통 척도로 가져옵니다.   \n",
        "> 2) L1 : 최소 절대 오차  \n",
        "  3) 절대 값의 합 (각 행) = 1을 확인합니다.    \n",
        "  4)이상치에 민감합니다.   \n",
        "  ![image.png](data:image/png;base64,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)\n",
        "\n",
        "2) Least squares mothod (LSM) : 최소제곱법   \n",
        ">1) 각 특징 벡터의 값을 공통 척도로 가져옵니다.   \n",
        "2) L2 : 최소제곱법    \n",
        "3) 제곱합 (각 행) = 1인지 확인합니다.   \n",
        "4) 훈련 중 이상 치를 고려   \n",
        "![image.png](data:image/png;base64,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)"
      ]
    },
    {
      "cell_type": "code",
      "metadata": {
        "id": "VWkIqtbO8Ev9",
        "outputId": "8ad25dac-4bfa-43c8-c69f-6cfc4bdbd2d7",
        "colab": {
          "base_uri": "https://localhost:8080/",
          "height": 158
        }
      },
      "source": [
        "# Least absolute deviations (LAD)\n",
        "from sklearn import preprocessing\n",
        "import numpy as np\n",
        "import pandas as pd \n",
        "\n",
        "data = np.array([[ 1., -1.,  2.],\n",
        "                [ 2.,  0.,  0.],\n",
        "                [ 0.,  1., -1.]])\n",
        "\n",
        "# 코드 구현\n",
        "abs1=np.abs(data)              # abs 절대값 \n",
        "# [[1. 1. 2.]\n",
        "#  [2. 0. 0.]\n",
        "#  [0. 1. 1.]]\n",
        "\n",
        "abssum=np.sum(abs1, axis=1)    \n",
        "# [4. 2. 2.]\n",
        "\n",
        "sm = np.divide(data.T, abssum) # 행렬끼리 나눗셈\n",
        "# [ 0.25  1.    0.  ]\n",
        "#  [-0.25  0.    0.5 ]\n",
        "#  [ 0.5   0.   -0.5 ]]\n",
        "print(sm.T,\"\\n\")\n",
        "\n",
        "\n",
        "# 패키지 사용\n",
        "data_l1 = preprocessing.normalize(data, norm='l1')\n",
        "print('L1-normalized data:\\n', data_l1)"
      ],
      "execution_count": null,
      "outputs": [
        {
          "output_type": "stream",
          "text": [
            "[[ 0.25 -0.25  0.5 ]\n",
            " [ 1.    0.    0.  ]\n",
            " [ 0.    0.5  -0.5 ]] \n",
            "\n",
            "L1-normalized data:\n",
            " [[ 0.25 -0.25  0.5 ]\n",
            " [ 1.    0.    0.  ]\n",
            " [ 0.    0.5  -0.5 ]]\n"
          ],
          "name": "stdout"
        }
      ]
    },
    {
      "cell_type": "code",
      "metadata": {
        "id": "6xJjIn1dI77E",
        "outputId": "2f57287d-26b5-4e4f-a14c-537f265f1252",
        "colab": {
          "base_uri": "https://localhost:8080/",
          "height": 176
        }
      },
      "source": [
        "# Least squares mothod (LSM) \n",
        "\n",
        "X = np.array([[ 1., -1.,  2.],\n",
        "              [ 2.,  0.,  0.],\n",
        "              [ 0.,  1., -1.]])\n",
        "\n",
        "# 코드 구현\n",
        "sq1=X**2                   # 제곱\n",
        "abssum=np.sum(sq1, axis=1) # SUM\n",
        "a= np.sqrt(abssum)         # 제곱근 \n",
        "print(\"sqrt=\",a)\n",
        "sm = np.divide(X.T, a)     # 행렬끼리 나눗셈\n",
        "print(sm.T)\n",
        "\n",
        "# 패키지 사용\n",
        "data_l2 = preprocessing.normalize(data, norm='l2')\n",
        "print('\\nL2-normalized data:\\n', data_l2)\n"
      ],
      "execution_count": null,
      "outputs": [
        {
          "output_type": "stream",
          "text": [
            "sqrt= [2.44948974 2.         1.41421356]\n",
            "[[ 0.40824829 -0.40824829  0.81649658]\n",
            " [ 1.          0.          0.        ]\n",
            " [ 0.          0.70710678 -0.70710678]]\n",
            "\n",
            "L2-normalized data:\n",
            " [[ 0.40824829 -0.40824829  0.81649658]\n",
            " [ 1.          0.          0.        ]\n",
            " [ 0.          0.70710678 -0.70710678]]\n"
          ],
          "name": "stdout"
        }
      ]
    },
    {
      "cell_type": "markdown",
      "metadata": {
        "id": "7bmVFnMYMPYO"
      },
      "source": [
        "# One-hot-encoding\n",
        "\n",
        "- 알고리즘의 구조에 따라 범주형 특성이 무시, 실제와 오차 발생할 수 있다\n",
        "- 범주형 데이터가 숫자이면 연속형 데이터로 인식 될 수 있음. \n",
        "- 이에 대해 각 변수의 하위범주로 0, 1 부울 형태로 구분하여 하위변수를 생성하여 처리\n",
        "- 통계학에서는 dummy variable\n"
      ]
    },
    {
      "cell_type": "code",
      "metadata": {
        "id": "y4bn9o6JMZzl",
        "outputId": "6d59d408-b89f-47d7-cdb1-9eb00c71fbe8",
        "colab": {
          "base_uri": "https://localhost:8080/",
          "height": 437
        }
      },
      "source": [
        "import pandas as pd\n",
        "df = pd.read_csv('/content/drive/My Drive/DM/homeprices.csv')\n",
        "df\n"
      ],
      "execution_count": null,
      "outputs": [
        {
          "output_type": "execute_result",
          "data": {
            "text/html": [
              "<div>\n",
              "<style scoped>\n",
              "    .dataframe tbody tr th:only-of-type {\n",
              "        vertical-align: middle;\n",
              "    }\n",
              "\n",
              "    .dataframe tbody tr th {\n",
              "        vertical-align: top;\n",
              "    }\n",
              "\n",
              "    .dataframe thead th {\n",
              "        text-align: right;\n",
              "    }\n",
              "</style>\n",
              "<table border=\"1\" class=\"dataframe\">\n",
              "  <thead>\n",
              "    <tr style=\"text-align: right;\">\n",
              "      <th></th>\n",
              "      <th>town</th>\n",
              "      <th>area</th>\n",
              "      <th>price</th>\n",
              "    </tr>\n",
              "  </thead>\n",
              "  <tbody>\n",
              "    <tr>\n",
              "      <th>0</th>\n",
              "      <td>monroe township</td>\n",
              "      <td>2600</td>\n",
              "      <td>550000</td>\n",
              "    </tr>\n",
              "    <tr>\n",
              "      <th>1</th>\n",
              "      <td>monroe township</td>\n",
              "      <td>3000</td>\n",
              "      <td>565000</td>\n",
              "    </tr>\n",
              "    <tr>\n",
              "      <th>2</th>\n",
              "      <td>monroe township</td>\n",
              "      <td>3200</td>\n",
              "      <td>610000</td>\n",
              "    </tr>\n",
              "    <tr>\n",
              "      <th>3</th>\n",
              "      <td>monroe township</td>\n",
              "      <td>3600</td>\n",
              "      <td>680000</td>\n",
              "    </tr>\n",
              "    <tr>\n",
              "      <th>4</th>\n",
              "      <td>monroe township</td>\n",
              "      <td>4000</td>\n",
              "      <td>725000</td>\n",
              "    </tr>\n",
              "    <tr>\n",
              "      <th>5</th>\n",
              "      <td>west windsor</td>\n",
              "      <td>2600</td>\n",
              "      <td>585000</td>\n",
              "    </tr>\n",
              "    <tr>\n",
              "      <th>6</th>\n",
              "      <td>west windsor</td>\n",
              "      <td>2800</td>\n",
              "      <td>615000</td>\n",
              "    </tr>\n",
              "    <tr>\n",
              "      <th>7</th>\n",
              "      <td>west windsor</td>\n",
              "      <td>3300</td>\n",
              "      <td>650000</td>\n",
              "    </tr>\n",
              "    <tr>\n",
              "      <th>8</th>\n",
              "      <td>west windsor</td>\n",
              "      <td>3600</td>\n",
              "      <td>710000</td>\n",
              "    </tr>\n",
              "    <tr>\n",
              "      <th>9</th>\n",
              "      <td>robinsville</td>\n",
              "      <td>2600</td>\n",
              "      <td>575000</td>\n",
              "    </tr>\n",
              "    <tr>\n",
              "      <th>10</th>\n",
              "      <td>robinsville</td>\n",
              "      <td>2900</td>\n",
              "      <td>600000</td>\n",
              "    </tr>\n",
              "    <tr>\n",
              "      <th>11</th>\n",
              "      <td>robinsville</td>\n",
              "      <td>3100</td>\n",
              "      <td>620000</td>\n",
              "    </tr>\n",
              "    <tr>\n",
              "      <th>12</th>\n",
              "      <td>robinsville</td>\n",
              "      <td>3600</td>\n",
              "      <td>695000</td>\n",
              "    </tr>\n",
              "  </tbody>\n",
              "</table>\n",
              "</div>"
            ],
            "text/plain": [
              "               town  area   price\n",
              "0   monroe township  2600  550000\n",
              "1   monroe township  3000  565000\n",
              "2   monroe township  3200  610000\n",
              "3   monroe township  3600  680000\n",
              "4   monroe township  4000  725000\n",
              "5      west windsor  2600  585000\n",
              "6      west windsor  2800  615000\n",
              "7      west windsor  3300  650000\n",
              "8      west windsor  3600  710000\n",
              "9       robinsville  2600  575000\n",
              "10      robinsville  2900  600000\n",
              "11      robinsville  3100  620000\n",
              "12      robinsville  3600  695000"
            ]
          },
          "metadata": {
            "tags": []
          },
          "execution_count": 6
        }
      ]
    },
    {
      "cell_type": "code",
      "metadata": {
        "id": "9hmVAffWMbQt",
        "outputId": "696f20bb-10fd-4f05-e8c9-0782248bb143",
        "colab": {
          "base_uri": "https://localhost:8080/",
          "height": 437
        }
      },
      "source": [
        "dummies = pd.get_dummies(df.town) # 결측값을 제외하고 0과 1로 구성된 더미값이 만들어진다. \n",
        "dummies"
      ],
      "execution_count": null,
      "outputs": [
        {
          "output_type": "execute_result",
          "data": {
            "text/html": [
              "<div>\n",
              "<style scoped>\n",
              "    .dataframe tbody tr th:only-of-type {\n",
              "        vertical-align: middle;\n",
              "    }\n",
              "\n",
              "    .dataframe tbody tr th {\n",
              "        vertical-align: top;\n",
              "    }\n",
              "\n",
              "    .dataframe thead th {\n",
              "        text-align: right;\n",
              "    }\n",
              "</style>\n",
              "<table border=\"1\" class=\"dataframe\">\n",
              "  <thead>\n",
              "    <tr style=\"text-align: right;\">\n",
              "      <th></th>\n",
              "      <th>monroe township</th>\n",
              "      <th>robinsville</th>\n",
              "      <th>west windsor</th>\n",
              "    </tr>\n",
              "  </thead>\n",
              "  <tbody>\n",
              "    <tr>\n",
              "      <th>0</th>\n",
              "      <td>1</td>\n",
              "      <td>0</td>\n",
              "      <td>0</td>\n",
              "    </tr>\n",
              "    <tr>\n",
              "      <th>1</th>\n",
              "      <td>1</td>\n",
              "      <td>0</td>\n",
              "      <td>0</td>\n",
              "    </tr>\n",
              "    <tr>\n",
              "      <th>2</th>\n",
              "      <td>1</td>\n",
              "      <td>0</td>\n",
              "      <td>0</td>\n",
              "    </tr>\n",
              "    <tr>\n",
              "      <th>3</th>\n",
              "      <td>1</td>\n",
              "      <td>0</td>\n",
              "      <td>0</td>\n",
              "    </tr>\n",
              "    <tr>\n",
              "      <th>4</th>\n",
              "      <td>1</td>\n",
              "      <td>0</td>\n",
              "      <td>0</td>\n",
              "    </tr>\n",
              "    <tr>\n",
              "      <th>5</th>\n",
              "      <td>0</td>\n",
              "      <td>0</td>\n",
              "      <td>1</td>\n",
              "    </tr>\n",
              "    <tr>\n",
              "      <th>6</th>\n",
              "      <td>0</td>\n",
              "      <td>0</td>\n",
              "      <td>1</td>\n",
              "    </tr>\n",
              "    <tr>\n",
              "      <th>7</th>\n",
              "      <td>0</td>\n",
              "      <td>0</td>\n",
              "      <td>1</td>\n",
              "    </tr>\n",
              "    <tr>\n",
              "      <th>8</th>\n",
              "      <td>0</td>\n",
              "      <td>0</td>\n",
              "      <td>1</td>\n",
              "    </tr>\n",
              "    <tr>\n",
              "      <th>9</th>\n",
              "      <td>0</td>\n",
              "      <td>1</td>\n",
              "      <td>0</td>\n",
              "    </tr>\n",
              "    <tr>\n",
              "      <th>10</th>\n",
              "      <td>0</td>\n",
              "      <td>1</td>\n",
              "      <td>0</td>\n",
              "    </tr>\n",
              "    <tr>\n",
              "      <th>11</th>\n",
              "      <td>0</td>\n",
              "      <td>1</td>\n",
              "      <td>0</td>\n",
              "    </tr>\n",
              "    <tr>\n",
              "      <th>12</th>\n",
              "      <td>0</td>\n",
              "      <td>1</td>\n",
              "      <td>0</td>\n",
              "    </tr>\n",
              "  </tbody>\n",
              "</table>\n",
              "</div>"
            ],
            "text/plain": [
              "    monroe township  robinsville  west windsor\n",
              "0                 1            0             0\n",
              "1                 1            0             0\n",
              "2                 1            0             0\n",
              "3                 1            0             0\n",
              "4                 1            0             0\n",
              "5                 0            0             1\n",
              "6                 0            0             1\n",
              "7                 0            0             1\n",
              "8                 0            0             1\n",
              "9                 0            1             0\n",
              "10                0            1             0\n",
              "11                0            1             0\n",
              "12                0            1             0"
            ]
          },
          "metadata": {
            "tags": []
          },
          "execution_count": 7
        }
      ]
    },
    {
      "cell_type": "code",
      "metadata": {
        "id": "DvRwAb4mM41V",
        "outputId": "09fb5a19-bb01-42f8-bb51-fd2e19b28cb7",
        "colab": {
          "base_uri": "https://localhost:8080/",
          "height": 437
        }
      },
      "source": [
        "merged =pd.concat([df,dummies], axis='columns') # contact는 합병\n",
        "merged"
      ],
      "execution_count": null,
      "outputs": [
        {
          "output_type": "execute_result",
          "data": {
            "text/html": [
              "<div>\n",
              "<style scoped>\n",
              "    .dataframe tbody tr th:only-of-type {\n",
              "        vertical-align: middle;\n",
              "    }\n",
              "\n",
              "    .dataframe tbody tr th {\n",
              "        vertical-align: top;\n",
              "    }\n",
              "\n",
              "    .dataframe thead th {\n",
              "        text-align: right;\n",
              "    }\n",
              "</style>\n",
              "<table border=\"1\" class=\"dataframe\">\n",
              "  <thead>\n",
              "    <tr style=\"text-align: right;\">\n",
              "      <th></th>\n",
              "      <th>town</th>\n",
              "      <th>area</th>\n",
              "      <th>price</th>\n",
              "      <th>monroe township</th>\n",
              "      <th>robinsville</th>\n",
              "      <th>west windsor</th>\n",
              "    </tr>\n",
              "  </thead>\n",
              "  <tbody>\n",
              "    <tr>\n",
              "      <th>0</th>\n",
              "      <td>monroe township</td>\n",
              "      <td>2600</td>\n",
              "      <td>550000</td>\n",
              "      <td>1</td>\n",
              "      <td>0</td>\n",
              "      <td>0</td>\n",
              "    </tr>\n",
              "    <tr>\n",
              "      <th>1</th>\n",
              "      <td>monroe township</td>\n",
              "      <td>3000</td>\n",
              "      <td>565000</td>\n",
              "      <td>1</td>\n",
              "      <td>0</td>\n",
              "      <td>0</td>\n",
              "    </tr>\n",
              "    <tr>\n",
              "      <th>2</th>\n",
              "      <td>monroe township</td>\n",
              "      <td>3200</td>\n",
              "      <td>610000</td>\n",
              "      <td>1</td>\n",
              "      <td>0</td>\n",
              "      <td>0</td>\n",
              "    </tr>\n",
              "    <tr>\n",
              "      <th>3</th>\n",
              "      <td>monroe township</td>\n",
              "      <td>3600</td>\n",
              "      <td>680000</td>\n",
              "      <td>1</td>\n",
              "      <td>0</td>\n",
              "      <td>0</td>\n",
              "    </tr>\n",
              "    <tr>\n",
              "      <th>4</th>\n",
              "      <td>monroe township</td>\n",
              "      <td>4000</td>\n",
              "      <td>725000</td>\n",
              "      <td>1</td>\n",
              "      <td>0</td>\n",
              "      <td>0</td>\n",
              "    </tr>\n",
              "    <tr>\n",
              "      <th>5</th>\n",
              "      <td>west windsor</td>\n",
              "      <td>2600</td>\n",
              "      <td>585000</td>\n",
              "      <td>0</td>\n",
              "      <td>0</td>\n",
              "      <td>1</td>\n",
              "    </tr>\n",
              "    <tr>\n",
              "      <th>6</th>\n",
              "      <td>west windsor</td>\n",
              "      <td>2800</td>\n",
              "      <td>615000</td>\n",
              "      <td>0</td>\n",
              "      <td>0</td>\n",
              "      <td>1</td>\n",
              "    </tr>\n",
              "    <tr>\n",
              "      <th>7</th>\n",
              "      <td>west windsor</td>\n",
              "      <td>3300</td>\n",
              "      <td>650000</td>\n",
              "      <td>0</td>\n",
              "      <td>0</td>\n",
              "      <td>1</td>\n",
              "    </tr>\n",
              "    <tr>\n",
              "      <th>8</th>\n",
              "      <td>west windsor</td>\n",
              "      <td>3600</td>\n",
              "      <td>710000</td>\n",
              "      <td>0</td>\n",
              "      <td>0</td>\n",
              "      <td>1</td>\n",
              "    </tr>\n",
              "    <tr>\n",
              "      <th>9</th>\n",
              "      <td>robinsville</td>\n",
              "      <td>2600</td>\n",
              "      <td>575000</td>\n",
              "      <td>0</td>\n",
              "      <td>1</td>\n",
              "      <td>0</td>\n",
              "    </tr>\n",
              "    <tr>\n",
              "      <th>10</th>\n",
              "      <td>robinsville</td>\n",
              "      <td>2900</td>\n",
              "      <td>600000</td>\n",
              "      <td>0</td>\n",
              "      <td>1</td>\n",
              "      <td>0</td>\n",
              "    </tr>\n",
              "    <tr>\n",
              "      <th>11</th>\n",
              "      <td>robinsville</td>\n",
              "      <td>3100</td>\n",
              "      <td>620000</td>\n",
              "      <td>0</td>\n",
              "      <td>1</td>\n",
              "      <td>0</td>\n",
              "    </tr>\n",
              "    <tr>\n",
              "      <th>12</th>\n",
              "      <td>robinsville</td>\n",
              "      <td>3600</td>\n",
              "      <td>695000</td>\n",
              "      <td>0</td>\n",
              "      <td>1</td>\n",
              "      <td>0</td>\n",
              "    </tr>\n",
              "  </tbody>\n",
              "</table>\n",
              "</div>"
            ],
            "text/plain": [
              "               town  area   price  monroe township  robinsville  west windsor\n",
              "0   monroe township  2600  550000                1            0             0\n",
              "1   monroe township  3000  565000                1            0             0\n",
              "2   monroe township  3200  610000                1            0             0\n",
              "3   monroe township  3600  680000                1            0             0\n",
              "4   monroe township  4000  725000                1            0             0\n",
              "5      west windsor  2600  585000                0            0             1\n",
              "6      west windsor  2800  615000                0            0             1\n",
              "7      west windsor  3300  650000                0            0             1\n",
              "8      west windsor  3600  710000                0            0             1\n",
              "9       robinsville  2600  575000                0            1             0\n",
              "10      robinsville  2900  600000                0            1             0\n",
              "11      robinsville  3100  620000                0            1             0\n",
              "12      robinsville  3600  695000                0            1             0"
            ]
          },
          "metadata": {
            "tags": []
          },
          "execution_count": 8
        }
      ]
    },
    {
      "cell_type": "code",
      "metadata": {
        "id": "nIV3kqX0NBVH",
        "outputId": "85f05812-2239-47d1-d3c0-cc2e0f430349",
        "colab": {
          "base_uri": "https://localhost:8080/",
          "height": 437
        }
      },
      "source": [
        "final = merged.drop(['town', 'west windsor'], axis='columns') # 컬럼들을 삭제\n",
        "final"
      ],
      "execution_count": null,
      "outputs": [
        {
          "output_type": "execute_result",
          "data": {
            "text/html": [
              "<div>\n",
              "<style scoped>\n",
              "    .dataframe tbody tr th:only-of-type {\n",
              "        vertical-align: middle;\n",
              "    }\n",
              "\n",
              "    .dataframe tbody tr th {\n",
              "        vertical-align: top;\n",
              "    }\n",
              "\n",
              "    .dataframe thead th {\n",
              "        text-align: right;\n",
              "    }\n",
              "</style>\n",
              "<table border=\"1\" class=\"dataframe\">\n",
              "  <thead>\n",
              "    <tr style=\"text-align: right;\">\n",
              "      <th></th>\n",
              "      <th>area</th>\n",
              "      <th>price</th>\n",
              "      <th>monroe township</th>\n",
              "      <th>robinsville</th>\n",
              "    </tr>\n",
              "  </thead>\n",
              "  <tbody>\n",
              "    <tr>\n",
              "      <th>0</th>\n",
              "      <td>2600</td>\n",
              "      <td>550000</td>\n",
              "      <td>1</td>\n",
              "      <td>0</td>\n",
              "    </tr>\n",
              "    <tr>\n",
              "      <th>1</th>\n",
              "      <td>3000</td>\n",
              "      <td>565000</td>\n",
              "      <td>1</td>\n",
              "      <td>0</td>\n",
              "    </tr>\n",
              "    <tr>\n",
              "      <th>2</th>\n",
              "      <td>3200</td>\n",
              "      <td>610000</td>\n",
              "      <td>1</td>\n",
              "      <td>0</td>\n",
              "    </tr>\n",
              "    <tr>\n",
              "      <th>3</th>\n",
              "      <td>3600</td>\n",
              "      <td>680000</td>\n",
              "      <td>1</td>\n",
              "      <td>0</td>\n",
              "    </tr>\n",
              "    <tr>\n",
              "      <th>4</th>\n",
              "      <td>4000</td>\n",
              "      <td>725000</td>\n",
              "      <td>1</td>\n",
              "      <td>0</td>\n",
              "    </tr>\n",
              "    <tr>\n",
              "      <th>5</th>\n",
              "      <td>2600</td>\n",
              "      <td>585000</td>\n",
              "      <td>0</td>\n",
              "      <td>0</td>\n",
              "    </tr>\n",
              "    <tr>\n",
              "      <th>6</th>\n",
              "      <td>2800</td>\n",
              "      <td>615000</td>\n",
              "      <td>0</td>\n",
              "      <td>0</td>\n",
              "    </tr>\n",
              "    <tr>\n",
              "      <th>7</th>\n",
              "      <td>3300</td>\n",
              "      <td>650000</td>\n",
              "      <td>0</td>\n",
              "      <td>0</td>\n",
              "    </tr>\n",
              "    <tr>\n",
              "      <th>8</th>\n",
              "      <td>3600</td>\n",
              "      <td>710000</td>\n",
              "      <td>0</td>\n",
              "      <td>0</td>\n",
              "    </tr>\n",
              "    <tr>\n",
              "      <th>9</th>\n",
              "      <td>2600</td>\n",
              "      <td>575000</td>\n",
              "      <td>0</td>\n",
              "      <td>1</td>\n",
              "    </tr>\n",
              "    <tr>\n",
              "      <th>10</th>\n",
              "      <td>2900</td>\n",
              "      <td>600000</td>\n",
              "      <td>0</td>\n",
              "      <td>1</td>\n",
              "    </tr>\n",
              "    <tr>\n",
              "      <th>11</th>\n",
              "      <td>3100</td>\n",
              "      <td>620000</td>\n",
              "      <td>0</td>\n",
              "      <td>1</td>\n",
              "    </tr>\n",
              "    <tr>\n",
              "      <th>12</th>\n",
              "      <td>3600</td>\n",
              "      <td>695000</td>\n",
              "      <td>0</td>\n",
              "      <td>1</td>\n",
              "    </tr>\n",
              "  </tbody>\n",
              "</table>\n",
              "</div>"
            ],
            "text/plain": [
              "    area   price  monroe township  robinsville\n",
              "0   2600  550000                1            0\n",
              "1   3000  565000                1            0\n",
              "2   3200  610000                1            0\n",
              "3   3600  680000                1            0\n",
              "4   4000  725000                1            0\n",
              "5   2600  585000                0            0\n",
              "6   2800  615000                0            0\n",
              "7   3300  650000                0            0\n",
              "8   3600  710000                0            0\n",
              "9   2600  575000                0            1\n",
              "10  2900  600000                0            1\n",
              "11  3100  620000                0            1\n",
              "12  3600  695000                0            1"
            ]
          },
          "metadata": {
            "tags": []
          },
          "execution_count": 9
        }
      ]
    },
    {
      "cell_type": "code",
      "metadata": {
        "id": "nDEr_kclNJUd",
        "outputId": "ba4deb99-909d-4fe9-dc85-007fd3e4b84e",
        "colab": {
          "base_uri": "https://localhost:8080/",
          "height": 437
        }
      },
      "source": [
        "X=final.drop('price', axis='columns')\n",
        "X"
      ],
      "execution_count": null,
      "outputs": [
        {
          "output_type": "execute_result",
          "data": {
            "text/html": [
              "<div>\n",
              "<style scoped>\n",
              "    .dataframe tbody tr th:only-of-type {\n",
              "        vertical-align: middle;\n",
              "    }\n",
              "\n",
              "    .dataframe tbody tr th {\n",
              "        vertical-align: top;\n",
              "    }\n",
              "\n",
              "    .dataframe thead th {\n",
              "        text-align: right;\n",
              "    }\n",
              "</style>\n",
              "<table border=\"1\" class=\"dataframe\">\n",
              "  <thead>\n",
              "    <tr style=\"text-align: right;\">\n",
              "      <th></th>\n",
              "      <th>area</th>\n",
              "      <th>monroe township</th>\n",
              "      <th>robinsville</th>\n",
              "    </tr>\n",
              "  </thead>\n",
              "  <tbody>\n",
              "    <tr>\n",
              "      <th>0</th>\n",
              "      <td>2600</td>\n",
              "      <td>1</td>\n",
              "      <td>0</td>\n",
              "    </tr>\n",
              "    <tr>\n",
              "      <th>1</th>\n",
              "      <td>3000</td>\n",
              "      <td>1</td>\n",
              "      <td>0</td>\n",
              "    </tr>\n",
              "    <tr>\n",
              "      <th>2</th>\n",
              "      <td>3200</td>\n",
              "      <td>1</td>\n",
              "      <td>0</td>\n",
              "    </tr>\n",
              "    <tr>\n",
              "      <th>3</th>\n",
              "      <td>3600</td>\n",
              "      <td>1</td>\n",
              "      <td>0</td>\n",
              "    </tr>\n",
              "    <tr>\n",
              "      <th>4</th>\n",
              "      <td>4000</td>\n",
              "      <td>1</td>\n",
              "      <td>0</td>\n",
              "    </tr>\n",
              "    <tr>\n",
              "      <th>5</th>\n",
              "      <td>2600</td>\n",
              "      <td>0</td>\n",
              "      <td>0</td>\n",
              "    </tr>\n",
              "    <tr>\n",
              "      <th>6</th>\n",
              "      <td>2800</td>\n",
              "      <td>0</td>\n",
              "      <td>0</td>\n",
              "    </tr>\n",
              "    <tr>\n",
              "      <th>7</th>\n",
              "      <td>3300</td>\n",
              "      <td>0</td>\n",
              "      <td>0</td>\n",
              "    </tr>\n",
              "    <tr>\n",
              "      <th>8</th>\n",
              "      <td>3600</td>\n",
              "      <td>0</td>\n",
              "      <td>0</td>\n",
              "    </tr>\n",
              "    <tr>\n",
              "      <th>9</th>\n",
              "      <td>2600</td>\n",
              "      <td>0</td>\n",
              "      <td>1</td>\n",
              "    </tr>\n",
              "    <tr>\n",
              "      <th>10</th>\n",
              "      <td>2900</td>\n",
              "      <td>0</td>\n",
              "      <td>1</td>\n",
              "    </tr>\n",
              "    <tr>\n",
              "      <th>11</th>\n",
              "      <td>3100</td>\n",
              "      <td>0</td>\n",
              "      <td>1</td>\n",
              "    </tr>\n",
              "    <tr>\n",
              "      <th>12</th>\n",
              "      <td>3600</td>\n",
              "      <td>0</td>\n",
              "      <td>1</td>\n",
              "    </tr>\n",
              "  </tbody>\n",
              "</table>\n",
              "</div>"
            ],
            "text/plain": [
              "    area  monroe township  robinsville\n",
              "0   2600                1            0\n",
              "1   3000                1            0\n",
              "2   3200                1            0\n",
              "3   3600                1            0\n",
              "4   4000                1            0\n",
              "5   2600                0            0\n",
              "6   2800                0            0\n",
              "7   3300                0            0\n",
              "8   3600                0            0\n",
              "9   2600                0            1\n",
              "10  2900                0            1\n",
              "11  3100                0            1\n",
              "12  3600                0            1"
            ]
          },
          "metadata": {
            "tags": []
          },
          "execution_count": 10
        }
      ]
    },
    {
      "cell_type": "code",
      "metadata": {
        "id": "5Md61iz8NOe7",
        "outputId": "8539ed17-0f9d-4d75-d02b-b1d264bc086d",
        "colab": {
          "base_uri": "https://localhost:8080/",
          "height": 265
        }
      },
      "source": [
        "y = final.price\n",
        "y\n"
      ],
      "execution_count": null,
      "outputs": [
        {
          "output_type": "execute_result",
          "data": {
            "text/plain": [
              "0     550000\n",
              "1     565000\n",
              "2     610000\n",
              "3     680000\n",
              "4     725000\n",
              "5     585000\n",
              "6     615000\n",
              "7     650000\n",
              "8     710000\n",
              "9     575000\n",
              "10    600000\n",
              "11    620000\n",
              "12    695000\n",
              "Name: price, dtype: int64"
            ]
          },
          "metadata": {
            "tags": []
          },
          "execution_count": 11
        }
      ]
    },
    {
      "cell_type": "code",
      "metadata": {
        "id": "vGz-ErepfG_q",
        "outputId": "e179b045-70bf-4e47-9a97-f187b5aefe4e",
        "colab": {
          "base_uri": "https://localhost:8080/",
          "height": 34
        }
      },
      "source": [
        "from sklearn.linear_model import LinearRegression\n",
        "\n",
        "model =  LinearRegression(copy_X=True, fit_intercept=True, n_jobs=None, normalize=False)\n",
        "model.fit(X, y)\n",
        "\n",
        "model.predict([[2800, 0, 1]])\n",
        "model.score(X,y)\n"
      ],
      "execution_count": null,
      "outputs": [
        {
          "output_type": "execute_result",
          "data": {
            "text/plain": [
              "0.9573929037221873"
            ]
          },
          "metadata": {
            "tags": []
          },
          "execution_count": 16
        }
      ]
    },
    {
      "cell_type": "code",
      "metadata": {
        "id": "-NnDiKXjNglG",
        "outputId": "a2cbed37-d5d8-4b16-db63-769dbaef2855",
        "colab": {
          "base_uri": "https://localhost:8080/",
          "height": 34
        }
      },
      "source": [
        "from sklearn.preprocessing import LabelEncoder\n",
        "le = LabelEncoder()\n",
        "dfle = df\n",
        "le.fit_transform(dfle.town)"
      ],
      "execution_count": null,
      "outputs": [
        {
          "output_type": "execute_result",
          "data": {
            "text/plain": [
              "array([0, 0, 0, 0, 0, 2, 2, 2, 2, 1, 1, 1, 1])"
            ]
          },
          "metadata": {
            "tags": []
          },
          "execution_count": 17
        }
      ]
    },
    {
      "cell_type": "code",
      "metadata": {
        "id": "YHXD8mKPNmQG",
        "outputId": "6b9a6cf4-e686-457c-a9c1-dd21ed0a394b",
        "colab": {
          "base_uri": "https://localhost:8080/",
          "height": 437
        }
      },
      "source": [
        "dfle = df\n",
        "dfle.town = le.fit_transform(dfle.town)\n",
        "dfle"
      ],
      "execution_count": null,
      "outputs": [
        {
          "output_type": "execute_result",
          "data": {
            "text/html": [
              "<div>\n",
              "<style scoped>\n",
              "    .dataframe tbody tr th:only-of-type {\n",
              "        vertical-align: middle;\n",
              "    }\n",
              "\n",
              "    .dataframe tbody tr th {\n",
              "        vertical-align: top;\n",
              "    }\n",
              "\n",
              "    .dataframe thead th {\n",
              "        text-align: right;\n",
              "    }\n",
              "</style>\n",
              "<table border=\"1\" class=\"dataframe\">\n",
              "  <thead>\n",
              "    <tr style=\"text-align: right;\">\n",
              "      <th></th>\n",
              "      <th>town</th>\n",
              "      <th>area</th>\n",
              "      <th>price</th>\n",
              "    </tr>\n",
              "  </thead>\n",
              "  <tbody>\n",
              "    <tr>\n",
              "      <th>0</th>\n",
              "      <td>0</td>\n",
              "      <td>2600</td>\n",
              "      <td>550000</td>\n",
              "    </tr>\n",
              "    <tr>\n",
              "      <th>1</th>\n",
              "      <td>0</td>\n",
              "      <td>3000</td>\n",
              "      <td>565000</td>\n",
              "    </tr>\n",
              "    <tr>\n",
              "      <th>2</th>\n",
              "      <td>0</td>\n",
              "      <td>3200</td>\n",
              "      <td>610000</td>\n",
              "    </tr>\n",
              "    <tr>\n",
              "      <th>3</th>\n",
              "      <td>0</td>\n",
              "      <td>3600</td>\n",
              "      <td>680000</td>\n",
              "    </tr>\n",
              "    <tr>\n",
              "      <th>4</th>\n",
              "      <td>0</td>\n",
              "      <td>4000</td>\n",
              "      <td>725000</td>\n",
              "    </tr>\n",
              "    <tr>\n",
              "      <th>5</th>\n",
              "      <td>2</td>\n",
              "      <td>2600</td>\n",
              "      <td>585000</td>\n",
              "    </tr>\n",
              "    <tr>\n",
              "      <th>6</th>\n",
              "      <td>2</td>\n",
              "      <td>2800</td>\n",
              "      <td>615000</td>\n",
              "    </tr>\n",
              "    <tr>\n",
              "      <th>7</th>\n",
              "      <td>2</td>\n",
              "      <td>3300</td>\n",
              "      <td>650000</td>\n",
              "    </tr>\n",
              "    <tr>\n",
              "      <th>8</th>\n",
              "      <td>2</td>\n",
              "      <td>3600</td>\n",
              "      <td>710000</td>\n",
              "    </tr>\n",
              "    <tr>\n",
              "      <th>9</th>\n",
              "      <td>1</td>\n",
              "      <td>2600</td>\n",
              "      <td>575000</td>\n",
              "    </tr>\n",
              "    <tr>\n",
              "      <th>10</th>\n",
              "      <td>1</td>\n",
              "      <td>2900</td>\n",
              "      <td>600000</td>\n",
              "    </tr>\n",
              "    <tr>\n",
              "      <th>11</th>\n",
              "      <td>1</td>\n",
              "      <td>3100</td>\n",
              "      <td>620000</td>\n",
              "    </tr>\n",
              "    <tr>\n",
              "      <th>12</th>\n",
              "      <td>1</td>\n",
              "      <td>3600</td>\n",
              "      <td>695000</td>\n",
              "    </tr>\n",
              "  </tbody>\n",
              "</table>\n",
              "</div>"
            ],
            "text/plain": [
              "    town  area   price\n",
              "0      0  2600  550000\n",
              "1      0  3000  565000\n",
              "2      0  3200  610000\n",
              "3      0  3600  680000\n",
              "4      0  4000  725000\n",
              "5      2  2600  585000\n",
              "6      2  2800  615000\n",
              "7      2  3300  650000\n",
              "8      2  3600  710000\n",
              "9      1  2600  575000\n",
              "10     1  2900  600000\n",
              "11     1  3100  620000\n",
              "12     1  3600  695000"
            ]
          },
          "metadata": {
            "tags": []
          },
          "execution_count": 18
        }
      ]
    },
    {
      "cell_type": "code",
      "metadata": {
        "id": "L09F5_qfNqRA",
        "outputId": "13eee79d-05ff-452b-dd76-2c9d8a582089",
        "colab": {
          "base_uri": "https://localhost:8080/",
          "height": 247
        }
      },
      "source": [
        "X= df[['town', 'area']].values\n",
        "X"
      ],
      "execution_count": null,
      "outputs": [
        {
          "output_type": "execute_result",
          "data": {
            "text/plain": [
              "array([[   0, 2600],\n",
              "       [   0, 3000],\n",
              "       [   0, 3200],\n",
              "       [   0, 3600],\n",
              "       [   0, 4000],\n",
              "       [   2, 2600],\n",
              "       [   2, 2800],\n",
              "       [   2, 3300],\n",
              "       [   2, 3600],\n",
              "       [   1, 2600],\n",
              "       [   1, 2900],\n",
              "       [   1, 3100],\n",
              "       [   1, 3600]])"
            ]
          },
          "metadata": {
            "tags": []
          },
          "execution_count": 19
        }
      ]
    },
    {
      "cell_type": "code",
      "metadata": {
        "id": "1gtxC_uDNtPq",
        "outputId": "b91c4e01-1817-49fd-8324-05ead1715e16",
        "colab": {
          "base_uri": "https://localhost:8080/",
          "height": 265
        }
      },
      "source": [
        "y= dfle.price\n",
        "y"
      ],
      "execution_count": null,
      "outputs": [
        {
          "output_type": "execute_result",
          "data": {
            "text/plain": [
              "0     550000\n",
              "1     565000\n",
              "2     610000\n",
              "3     680000\n",
              "4     725000\n",
              "5     585000\n",
              "6     615000\n",
              "7     650000\n",
              "8     710000\n",
              "9     575000\n",
              "10    600000\n",
              "11    620000\n",
              "12    695000\n",
              "Name: price, dtype: int64"
            ]
          },
          "metadata": {
            "tags": []
          },
          "execution_count": 20
        }
      ]
    },
    {
      "cell_type": "code",
      "metadata": {
        "id": "EnnpmbmoNU8s",
        "outputId": "17fe1783-ca89-40db-8400-113805de9a40",
        "colab": {
          "base_uri": "https://localhost:8080/",
          "height": 478
        }
      },
      "source": [
        "from sklearn.preprocessing import OneHotEncoder\n",
        "gun = OneHotEncoder()\n",
        "gun.fit_transform(X).toarray()\n",
        "\n",
        "X=gun.fit_transform(X).toarray()\n",
        "X\n",
        "\n",
        "X=X[:, 1:]\n",
        "X\n",
        "\n",
        "\n",
        "# from sklearn.compose import ColumnTransformer \n",
        "# gun = ColumnTransformer([(OneHotEncoder(),[0])])\n",
        "# gun.fit_transform(X)"
      ],
      "execution_count": null,
      "outputs": [
        {
          "output_type": "execute_result",
          "data": {
            "text/plain": [
              "array([[1., 1., 0., 1., 0., 0., 1., 1., 0., 1., 0., 1., 0., 1., 0., 1.,\n",
              "        0., 1., 0., 1., 0., 1., 0.],\n",
              "       [1., 1., 0., 1., 0., 1., 0., 1., 0., 1., 0., 0., 1., 1., 0., 1.,\n",
              "        0., 1., 0., 1., 0., 1., 0.],\n",
              "       [1., 1., 0., 1., 0., 1., 0., 1., 0., 1., 0., 1., 0., 1., 0., 0.,\n",
              "        1., 1., 0., 1., 0., 1., 0.],\n",
              "       [1., 1., 0., 1., 0., 1., 0., 1., 0., 1., 0., 1., 0., 1., 0., 1.,\n",
              "        0., 1., 0., 0., 1., 1., 0.],\n",
              "       [1., 1., 0., 1., 0., 1., 0., 1., 0., 1., 0., 1., 0., 1., 0., 1.,\n",
              "        0., 1., 0., 1., 0., 0., 1.],\n",
              "       [0., 1., 0., 0., 1., 0., 1., 1., 0., 1., 0., 1., 0., 1., 0., 1.,\n",
              "        0., 1., 0., 1., 0., 1., 0.],\n",
              "       [0., 1., 0., 0., 1., 1., 0., 0., 1., 1., 0., 1., 0., 1., 0., 1.,\n",
              "        0., 1., 0., 1., 0., 1., 0.],\n",
              "       [0., 1., 0., 0., 1., 1., 0., 1., 0., 1., 0., 1., 0., 1., 0., 1.,\n",
              "        0., 0., 1., 1., 0., 1., 0.],\n",
              "       [0., 1., 0., 0., 1., 1., 0., 1., 0., 1., 0., 1., 0., 1., 0., 1.,\n",
              "        0., 1., 0., 0., 1., 1., 0.],\n",
              "       [0., 0., 1., 1., 0., 0., 1., 1., 0., 1., 0., 1., 0., 1., 0., 1.,\n",
              "        0., 1., 0., 1., 0., 1., 0.],\n",
              "       [0., 0., 1., 1., 0., 1., 0., 1., 0., 0., 1., 1., 0., 1., 0., 1.,\n",
              "        0., 1., 0., 1., 0., 1., 0.],\n",
              "       [0., 0., 1., 1., 0., 1., 0., 1., 0., 1., 0., 1., 0., 0., 1., 1.,\n",
              "        0., 1., 0., 1., 0., 1., 0.],\n",
              "       [0., 0., 1., 1., 0., 1., 0., 1., 0., 1., 0., 1., 0., 1., 0., 1.,\n",
              "        0., 1., 0., 0., 1., 1., 0.]])"
            ]
          },
          "metadata": {
            "tags": []
          },
          "execution_count": 54
        }
      ]
    },
    {
      "cell_type": "code",
      "metadata": {
        "id": "SjbjxztKlY2Y",
        "outputId": "27493742-d56e-4fb5-a3c8-23333262461b",
        "colab": {
          "base_uri": "https://localhost:8080/",
          "height": 437
        }
      },
      "source": [
        "import pandas as pd\n",
        "df = pd.read_csv('/content/drive/My Drive/DM/carprice.csv', index_col=0)\n",
        "df.rename(columns={\"Car Model\":\"Car_Model\"}, inplace=True)\n",
        "df"
      ],
      "execution_count": null,
      "outputs": [
        {
          "output_type": "execute_result",
          "data": {
            "text/html": [
              "<div>\n",
              "<style scoped>\n",
              "    .dataframe tbody tr th:only-of-type {\n",
              "        vertical-align: middle;\n",
              "    }\n",
              "\n",
              "    .dataframe tbody tr th {\n",
              "        vertical-align: top;\n",
              "    }\n",
              "\n",
              "    .dataframe thead th {\n",
              "        text-align: right;\n",
              "    }\n",
              "</style>\n",
              "<table border=\"1\" class=\"dataframe\">\n",
              "  <thead>\n",
              "    <tr style=\"text-align: right;\">\n",
              "      <th></th>\n",
              "      <th>Car_Model</th>\n",
              "      <th>Mileage</th>\n",
              "      <th>Sell Price($)</th>\n",
              "      <th>Age(yrs)</th>\n",
              "    </tr>\n",
              "  </thead>\n",
              "  <tbody>\n",
              "    <tr>\n",
              "      <th>0</th>\n",
              "      <td>BMW X5</td>\n",
              "      <td>69000</td>\n",
              "      <td>18000</td>\n",
              "      <td>6</td>\n",
              "    </tr>\n",
              "    <tr>\n",
              "      <th>1</th>\n",
              "      <td>BMW X5</td>\n",
              "      <td>35000</td>\n",
              "      <td>34000</td>\n",
              "      <td>3</td>\n",
              "    </tr>\n",
              "    <tr>\n",
              "      <th>2</th>\n",
              "      <td>BMW X5</td>\n",
              "      <td>57000</td>\n",
              "      <td>26100</td>\n",
              "      <td>5</td>\n",
              "    </tr>\n",
              "    <tr>\n",
              "      <th>3</th>\n",
              "      <td>BMW X5</td>\n",
              "      <td>22500</td>\n",
              "      <td>40000</td>\n",
              "      <td>2</td>\n",
              "    </tr>\n",
              "    <tr>\n",
              "      <th>4</th>\n",
              "      <td>BMW X5</td>\n",
              "      <td>46000</td>\n",
              "      <td>31500</td>\n",
              "      <td>4</td>\n",
              "    </tr>\n",
              "    <tr>\n",
              "      <th>5</th>\n",
              "      <td>Audi A5</td>\n",
              "      <td>59000</td>\n",
              "      <td>29400</td>\n",
              "      <td>5</td>\n",
              "    </tr>\n",
              "    <tr>\n",
              "      <th>6</th>\n",
              "      <td>Audi A5</td>\n",
              "      <td>52000</td>\n",
              "      <td>32000</td>\n",
              "      <td>5</td>\n",
              "    </tr>\n",
              "    <tr>\n",
              "      <th>7</th>\n",
              "      <td>Audi A5</td>\n",
              "      <td>72000</td>\n",
              "      <td>19300</td>\n",
              "      <td>6</td>\n",
              "    </tr>\n",
              "    <tr>\n",
              "      <th>8</th>\n",
              "      <td>Audi A5</td>\n",
              "      <td>91000</td>\n",
              "      <td>12000</td>\n",
              "      <td>8</td>\n",
              "    </tr>\n",
              "    <tr>\n",
              "      <th>9</th>\n",
              "      <td>Mercedez Benz C class</td>\n",
              "      <td>67000</td>\n",
              "      <td>22000</td>\n",
              "      <td>6</td>\n",
              "    </tr>\n",
              "    <tr>\n",
              "      <th>10</th>\n",
              "      <td>Mercedez Benz C class</td>\n",
              "      <td>83000</td>\n",
              "      <td>20000</td>\n",
              "      <td>7</td>\n",
              "    </tr>\n",
              "    <tr>\n",
              "      <th>11</th>\n",
              "      <td>Mercedez Benz C class</td>\n",
              "      <td>79000</td>\n",
              "      <td>21000</td>\n",
              "      <td>7</td>\n",
              "    </tr>\n",
              "    <tr>\n",
              "      <th>12</th>\n",
              "      <td>Mercedez Benz C class</td>\n",
              "      <td>59000</td>\n",
              "      <td>33000</td>\n",
              "      <td>5</td>\n",
              "    </tr>\n",
              "  </tbody>\n",
              "</table>\n",
              "</div>"
            ],
            "text/plain": [
              "                Car_Model  Mileage  Sell Price($)  Age(yrs)\n",
              "0                  BMW X5    69000          18000         6\n",
              "1                  BMW X5    35000          34000         3\n",
              "2                  BMW X5    57000          26100         5\n",
              "3                  BMW X5    22500          40000         2\n",
              "4                  BMW X5    46000          31500         4\n",
              "5                 Audi A5    59000          29400         5\n",
              "6                 Audi A5    52000          32000         5\n",
              "7                 Audi A5    72000          19300         6\n",
              "8                 Audi A5    91000          12000         8\n",
              "9   Mercedez Benz C class    67000          22000         6\n",
              "10  Mercedez Benz C class    83000          20000         7\n",
              "11  Mercedez Benz C class    79000          21000         7\n",
              "12  Mercedez Benz C class    59000          33000         5"
            ]
          },
          "metadata": {
            "tags": []
          },
          "execution_count": 85
        }
      ]
    },
    {
      "cell_type": "code",
      "metadata": {
        "id": "ArcZmpMjnRhi",
        "outputId": "d7a9d748-c377-4618-e8b1-e9dbdd8d690b",
        "colab": {
          "base_uri": "https://localhost:8080/",
          "height": 437
        }
      },
      "source": [
        "from sklearn.preprocessing import LabelEncoder\n",
        "le = LabelEncoder()\n",
        "df['Car_Model'] = le.fit_transform(df['Car_Model'])\n",
        "df"
      ],
      "execution_count": null,
      "outputs": [
        {
          "output_type": "execute_result",
          "data": {
            "text/html": [
              "<div>\n",
              "<style scoped>\n",
              "    .dataframe tbody tr th:only-of-type {\n",
              "        vertical-align: middle;\n",
              "    }\n",
              "\n",
              "    .dataframe tbody tr th {\n",
              "        vertical-align: top;\n",
              "    }\n",
              "\n",
              "    .dataframe thead th {\n",
              "        text-align: right;\n",
              "    }\n",
              "</style>\n",
              "<table border=\"1\" class=\"dataframe\">\n",
              "  <thead>\n",
              "    <tr style=\"text-align: right;\">\n",
              "      <th></th>\n",
              "      <th>Car_Model</th>\n",
              "      <th>Mileage</th>\n",
              "      <th>Sell Price($)</th>\n",
              "      <th>Age(yrs)</th>\n",
              "    </tr>\n",
              "  </thead>\n",
              "  <tbody>\n",
              "    <tr>\n",
              "      <th>0</th>\n",
              "      <td>1</td>\n",
              "      <td>69000</td>\n",
              "      <td>18000</td>\n",
              "      <td>6</td>\n",
              "    </tr>\n",
              "    <tr>\n",
              "      <th>1</th>\n",
              "      <td>1</td>\n",
              "      <td>35000</td>\n",
              "      <td>34000</td>\n",
              "      <td>3</td>\n",
              "    </tr>\n",
              "    <tr>\n",
              "      <th>2</th>\n",
              "      <td>1</td>\n",
              "      <td>57000</td>\n",
              "      <td>26100</td>\n",
              "      <td>5</td>\n",
              "    </tr>\n",
              "    <tr>\n",
              "      <th>3</th>\n",
              "      <td>1</td>\n",
              "      <td>22500</td>\n",
              "      <td>40000</td>\n",
              "      <td>2</td>\n",
              "    </tr>\n",
              "    <tr>\n",
              "      <th>4</th>\n",
              "      <td>1</td>\n",
              "      <td>46000</td>\n",
              "      <td>31500</td>\n",
              "      <td>4</td>\n",
              "    </tr>\n",
              "    <tr>\n",
              "      <th>5</th>\n",
              "      <td>0</td>\n",
              "      <td>59000</td>\n",
              "      <td>29400</td>\n",
              "      <td>5</td>\n",
              "    </tr>\n",
              "    <tr>\n",
              "      <th>6</th>\n",
              "      <td>0</td>\n",
              "      <td>52000</td>\n",
              "      <td>32000</td>\n",
              "      <td>5</td>\n",
              "    </tr>\n",
              "    <tr>\n",
              "      <th>7</th>\n",
              "      <td>0</td>\n",
              "      <td>72000</td>\n",
              "      <td>19300</td>\n",
              "      <td>6</td>\n",
              "    </tr>\n",
              "    <tr>\n",
              "      <th>8</th>\n",
              "      <td>0</td>\n",
              "      <td>91000</td>\n",
              "      <td>12000</td>\n",
              "      <td>8</td>\n",
              "    </tr>\n",
              "    <tr>\n",
              "      <th>9</th>\n",
              "      <td>2</td>\n",
              "      <td>67000</td>\n",
              "      <td>22000</td>\n",
              "      <td>6</td>\n",
              "    </tr>\n",
              "    <tr>\n",
              "      <th>10</th>\n",
              "      <td>2</td>\n",
              "      <td>83000</td>\n",
              "      <td>20000</td>\n",
              "      <td>7</td>\n",
              "    </tr>\n",
              "    <tr>\n",
              "      <th>11</th>\n",
              "      <td>2</td>\n",
              "      <td>79000</td>\n",
              "      <td>21000</td>\n",
              "      <td>7</td>\n",
              "    </tr>\n",
              "    <tr>\n",
              "      <th>12</th>\n",
              "      <td>2</td>\n",
              "      <td>59000</td>\n",
              "      <td>33000</td>\n",
              "      <td>5</td>\n",
              "    </tr>\n",
              "  </tbody>\n",
              "</table>\n",
              "</div>"
            ],
            "text/plain": [
              "    Car_Model  Mileage  Sell Price($)  Age(yrs)\n",
              "0           1    69000          18000         6\n",
              "1           1    35000          34000         3\n",
              "2           1    57000          26100         5\n",
              "3           1    22500          40000         2\n",
              "4           1    46000          31500         4\n",
              "5           0    59000          29400         5\n",
              "6           0    52000          32000         5\n",
              "7           0    72000          19300         6\n",
              "8           0    91000          12000         8\n",
              "9           2    67000          22000         6\n",
              "10          2    83000          20000         7\n",
              "11          2    79000          21000         7\n",
              "12          2    59000          33000         5"
            ]
          },
          "metadata": {
            "tags": []
          },
          "execution_count": 89
        }
      ]
    },
    {
      "cell_type": "code",
      "metadata": {
        "id": "N0aX2ViCpz2L"
      },
      "source": [
        "X = df.drop(columns=['Sell Price($)'])\n",
        "y = df['Sell Price($)']"
      ],
      "execution_count": null,
      "outputs": []
    },
    {
      "cell_type": "code",
      "metadata": {
        "id": "C26MhnQippzc",
        "outputId": "45219123-4c9b-4a80-aca0-27ba834870fe",
        "colab": {
          "base_uri": "https://localhost:8080/",
          "height": 70
        }
      },
      "source": [
        "from sklearn.linear_model import LinearRegression\n",
        "\n",
        "model =  LinearRegression()\n",
        "model.fit(X, y)\n",
        "print(model.predict([[2, 45000, 4]]))\n",
        "print(model.predict([[1, 86000, 7]]))\n",
        "print(model.score(X, y))"
      ],
      "execution_count": null,
      "outputs": [
        {
          "output_type": "stream",
          "text": [
            "[33336.7721827]\n",
            "[16106.74127344]\n",
            "0.8719970367825953\n"
          ],
          "name": "stdout"
        }
      ]
    }
  ]
}