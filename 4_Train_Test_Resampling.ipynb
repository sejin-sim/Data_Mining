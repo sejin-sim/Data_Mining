{
  "nbformat": 4,
  "nbformat_minor": 0,
  "metadata": {
    "colab": {
      "name": "[SJ] Train-Test-Resampling.ipynb",
      "provenance": [],
      "collapsed_sections": [],
      "mount_file_id": "1T11Ow2wtrkGu9K5X6NtstFXZYn3i1KoW",
      "authorship_tag": "ABX9TyPZa1qBmjOs4ADcNFd6qQw5",
      "include_colab_link": true
    },
    "kernelspec": {
      "name": "python3",
      "display_name": "Python 3"
    }
  },
  "cells": [
    {
      "cell_type": "markdown",
      "metadata": {
        "id": "view-in-github",
        "colab_type": "text"
      },
      "source": [
        "<a href=\"https://colab.research.google.com/github/sejin-sim/Data_Mining/blob/main/4_Train_Test_Resampling.ipynb\" target=\"_parent\"><img src=\"https://colab.research.google.com/assets/colab-badge.svg\" alt=\"Open In Colab\"/></a>"
      ]
    },
    {
      "cell_type": "markdown",
      "metadata": {
        "id": "MrCYhUGZQLLD"
      },
      "source": [
        "# Stratified sampling(층화추출법) \n",
        ": 모집단을 먼저 중복되지 않도록 층으로 나눈 다음 각 층에서 표본을 추출하는 방법   \n",
        "![](https://lh3.googleusercontent.com/proxy/fN2ryUL12ILAcePvBy3SLRfgKpgBf97tXUS69rCabboSp8QMPwp8VrV0Qz1zOoziRvxgo7LL1yPauxePvu6bLjqndRjlweTMYA)\n",
        "> 훈련 또는 검증 세트를 무작위로 선택할 때 우리는\n",
        "선택한 각 세트에서 등급 비율이 유지되는지 확인\n",
        "\n",
        "\n",
        "\n",
        "\n"
      ]
    },
    {
      "cell_type": "markdown",
      "metadata": {
        "id": "ZYv1OR0yme4v"
      },
      "source": [
        "## Split dataset into 3 groups: Traininng set, Test set, validation set\n"
      ]
    },
    {
      "cell_type": "markdown",
      "metadata": {
        "id": "kk_sclyrGgac"
      },
      "source": [
        "## Train set, Test set의 분류\n",
        "- 결과에 대한 예측율을 높이기 위해 학습을 수행 하기 이전에 train set과 test set을 구분하여 사용한다.\n",
        "- 일반화와 성능비교(예측율)\n",
        "- 홀드 아웃 : Train set을 교차검증을 위해 다수로 나눌 수 있으며, train/test set외에 별도의 검증 데이터(validity set을 준비하여 일반화의 정도와 성능 등을 다시 검증 가능\n",
        "\n"
      ]
    },
    {
      "cell_type": "markdown",
      "metadata": {
        "id": "0I0JoMXZHRRh"
      },
      "source": [
        "* 전체 교육 데이터를 사용하여 \"최적\" 분류기를 선택한 후 오류율을 추정할 수 있다.\n",
        "\n",
        "* 문제 두가지\n",
        "1. 최종 모델은 일반적으로 훈련 데이터를 오버핏한다: 새로운 데이터에 일반화할 수 없다. \n",
        "> 오버 피팅 문제는 파라미터 숫자가 많은 모델에서 더 뚜렷하다.\n",
        "2. 오류율 추정치는 지나치게 낙관적일 것이다. (실제 오류율보다 낮음)\n",
        "> 실제로 훈련 데이터에 대해 100% 정확한 분류가 있는 경우는 드물지 않다."
      ]
    },
    {
      "cell_type": "code",
      "metadata": {
        "id": "WVgQVVOImHKN",
        "outputId": "8650aa0c-06e9-401b-c8c2-dec44e02f98e",
        "colab": {
          "base_uri": "https://localhost:8080/",
          "height": 390
        }
      },
      "source": [
        "# hold out method : Split dataset into two groups: Training set, Test set\n",
        "\n",
        "import numpy as np\n",
        "from sklearn.model_selection import train_test_split\n",
        "\n",
        "X = np.array([[10, 20], [30, 40], [10, 20], [30, 40], [15, 19], [34, 41], [11, 21], [33, 39], [33, 41], [12, 21]])  # create an array\n",
        "y = np.array([0, 1, 0, 1, 0, 1, 0, 1, 1, 0]) # Create another array\n",
        "\n",
        "# create training and testing vars\n",
        "X_train, X_test, y_train, y_test = train_test_split(X, y, stratify=y, test_size=0.2, random_state=10)\n",
        "X_train, X_val, y_train, y_val = train_test_split(X_train, y_train, train_size=0.7, random_state=10) \n",
        "\n",
        "print(\"X_train: \\n\", X_train, \"\\ny_train: \\n\", y_train, \"\\n\\nX_test: \\n\", X_test, \"\\ny_test: \\n\", y_test, '\\n') \n",
        "print(\"X_val: \\n\", X_val, \"\\ny_val: \\n\", y_val)\n"
      ],
      "execution_count": null,
      "outputs": [
        {
          "output_type": "stream",
          "text": [
            "X_train: \n",
            " [[33 39]\n",
            " [12 21]\n",
            " [11 21]\n",
            " [30 40]\n",
            " [34 41]] \n",
            "y_train: \n",
            " [1 0 0 1 1] \n",
            "\n",
            "X_test: \n",
            " [[30 40]\n",
            " [10 20]] \n",
            "y_test: \n",
            " [1 0] \n",
            "\n",
            "X_val: \n",
            " [[33 41]\n",
            " [10 20]\n",
            " [15 19]] \n",
            "y_val: \n",
            " [1 0 0]\n"
          ],
          "name": "stdout"
        }
      ]
    },
    {
      "cell_type": "markdown",
      "metadata": {
        "id": "2Vi2v7Fzl-ji"
      },
      "source": [
        "# Random Subsampling: repeat hold out"
      ]
    },
    {
      "cell_type": "markdown",
      "metadata": {
        "id": "bRxxdmlFUOZg"
      },
      "source": [
        "# Cross Validation (교차타당도)\n",
        ": '동일한 모집단에서 추출한 독립적인 두 표본 집단의 예언 변인과 기준 변인의 관계가 일관성을 유지하는 정도'\n",
        "\n",
        "1. k-fold cross validation  (랜덤이 없는 경우)\n",
        "* 데이터를 k개의 데이터 폴드로 분할하고, 각 Iteration마다 test set을 다르게 할당하여 총 k개의 '데이터 폴드 세트 (아래 그림의 경우 train fold 4개 + test fold 1개)'를 구성\n",
        "* 데이터셋의 크기가 작은 경우 테스트셋에 대한 성능 평가의 신뢰성을 보완하는 방법\n",
        "* Data를 5개로 나눠서 4개 폴드의 합을 train data로 하고 나머지 1개는 test data로 한다.\n",
        ">![](https://mblogthumb-phinf.pstatic.net/MjAxOTA3MjVfMTYz/MDAxNTY0MDY1ODk4NTM0.HiTh5fw3_Fulbq6dv1iLrxS7EmEM4htsWC-5fh-TiGAg.5rbp2nHtWYOZvzoN-Kl4mCKF4nZ4rd5bmO_IDh-sieAg.PNG.ckdgus1433/image.png?type=w800)\n",
        "\n",
        "2. Leave-one-out cross validation (LOOCV)   \n",
        ": 전체 데이터(서로 다른 데이터 샘플들) 중에서 1개의 샘플을 선택하여 그것을 모델 검증에 사용하는 방법\n",
        ">![](https://mblogthumb-phinf.pstatic.net/MjAxOTA3MjVfMTQg/MDAxNTY0MDY1NjMxMjg2.8ugc6HiRsFIon719Kibr7SCCfhs8zmgKYidiVsTIT-sg.kngfm9wBF_Lp_mVx28ERZT6KasEyzh8ApMoJlg40PVsg.PNG.ckdgus1433/image.png?type=w800) \n",
        ">![](https://mblogthumb-phinf.pstatic.net/MjAxOTA3MjVfMTQg/MDAxNTY0MDY1NjMxMjg2.8ugc6HiRsFIon719Kibr7SCCfhs8zmgKYidiVsTIT-sg.kngfm9wBF_Lp_mVx28ERZT6KasEyzh8ApMoJlg40PVsg.PNG.ckdgus1433/image.png?type=w800)"
      ]
    },
    {
      "cell_type": "code",
      "metadata": {
        "id": "ODErE49f0N3l",
        "outputId": "8ca391da-ec4c-460d-ead5-dade8fdfbd7d",
        "colab": {
          "base_uri": "https://localhost:8080/",
          "height": 34
        }
      },
      "source": [
        "# LOCV\n",
        "\n",
        "import numpy as np\n",
        "from sklearn.model_selection import LeaveOneOut \n",
        "\n",
        "X = np.array([[1, 2], [3, 4], [5, 6]])\n",
        "y = np.array(['a', 'b', 'c'])\n",
        "loo = LeaveOneOut()\n",
        "loo.get_n_splits(X)  # 분할 반복 횟수 3!"
      ],
      "execution_count": null,
      "outputs": [
        {
          "output_type": "execute_result",
          "data": {
            "text/plain": [
              "3"
            ]
          },
          "metadata": {
            "tags": []
          },
          "execution_count": 23
        }
      ]
    },
    {
      "cell_type": "code",
      "metadata": {
        "id": "-LZ9Msph0azs",
        "outputId": "017ab3c1-d9f9-41d2-cada-d6bb7c56e0b8",
        "colab": {
          "base_uri": "https://localhost:8080/",
          "height": 336
        }
      },
      "source": [
        "for train_index, test_index in loo.split(X): # \n",
        "   X_train, X_test = X[train_index], X[test_index]\n",
        "   y_train, y_test = y[train_index], y[test_index]\n",
        "   print(\"TRAIN:\", train_index, \"TEST:\", test_index)\n",
        "   print(\"X_train:\", X_train, '\\n',\"y_train:\", y_train, '\\n', \"X_test:\", X_test, \"y_test:\", y_test, '\\n') "
      ],
      "execution_count": null,
      "outputs": [
        {
          "output_type": "stream",
          "text": [
            "TRAIN: [1 2] TEST: [0]\n",
            "X_train: [[3 4]\n",
            " [5 6]] \n",
            " y_train: ['b' 'c'] \n",
            " X_test: [[1 2]] y_test: ['a'] \n",
            "\n",
            "TRAIN: [0 2] TEST: [1]\n",
            "X_train: [[1 2]\n",
            " [5 6]] \n",
            " y_train: ['a' 'c'] \n",
            " X_test: [[3 4]] y_test: ['b'] \n",
            "\n",
            "TRAIN: [0 1] TEST: [2]\n",
            "X_train: [[1 2]\n",
            " [3 4]] \n",
            " y_train: ['a' 'b'] \n",
            " X_test: [[5 6]] y_test: ['c'] \n",
            "\n"
          ],
          "name": "stdout"
        }
      ]
    },
    {
      "cell_type": "markdown",
      "metadata": {
        "id": "MRG40mf4peBh"
      },
      "source": [
        "1. K-Fold Cross-validation (랜덤이 없는 경우)\n",
        "2. Random Subsampling: K-fold (랜덤이 있는 경우)         \n"
      ]
    },
    {
      "cell_type": "code",
      "metadata": {
        "id": "t3aAxxsg4L9Y",
        "outputId": "ba001e4d-60b4-45a2-fa18-d3d3914ebb5c",
        "colab": {
          "base_uri": "https://localhost:8080/",
          "height": 87
        }
      },
      "source": [
        "# K-Fold Cross-validation(랜덤이 없는 경우)\n",
        "\n",
        "import numpy as np\n",
        "from sklearn.model_selection import KFold # import KFold\n",
        "\n",
        "X = np.array([[10, 20], [30, 40], [15, 19], [34, 41], [11, 21], [33, 39]])  # create an array\n",
        "y = np.array([0, 1, 0, 1, 0,1]) # Create another array\n",
        "kf = KFold(n_splits=3, random_state=None, shuffle=False)  # Define the split - into 3 folds \n",
        "\n",
        "kf.get_n_splits(X) # returns the number of splitting iterations in the cross-validator\n",
        "print(kf) \n",
        "\n",
        "for train, test in kf.split(X):\n",
        "  print(\"TRAIN: %s TEST: %s\" % (train, test))"
      ],
      "execution_count": null,
      "outputs": [
        {
          "output_type": "stream",
          "text": [
            "KFold(n_splits=3, random_state=None, shuffle=False)\n",
            "TRAIN: [2 3 4 5] TEST: [0 1]\n",
            "TRAIN: [0 1 4 5] TEST: [2 3]\n",
            "TRAIN: [0 1 2 3] TEST: [4 5]\n"
          ],
          "name": "stdout"
        }
      ]
    },
    {
      "cell_type": "markdown",
      "metadata": {
        "id": "ABjGpWGb6FRG"
      },
      "source": [
        "# The bootstrap\n",
        "> * 무작위 표본 추출에 의존하는 어떤 시험이나 계측이다.\n",
        "> * 부트스트랩은 표본 추정치들의 (편향, 분포, 신뢰 구간, 오차 예측 또는 기타 추정치들로 정의 되는) 정확도를 할당할 수 있도록 한다.   \n",
        "![](https://rasbt.github.io/mlxtend/user_guide/evaluate/BootstrapOutOfBag_files/bootstrap_concept.png)\n",
        "\n",
        "\n"
      ]
    },
    {
      "cell_type": "code",
      "metadata": {
        "id": "Yjyd5lHF7BJ0",
        "outputId": "59bb2d9c-0c5e-4f99-dcd7-4da25321bfb5",
        "colab": {
          "base_uri": "https://localhost:8080/",
          "height": 496
        }
      },
      "source": [
        "# Bootstrap\n",
        "\n",
        "from sklearn.utils import resample\n",
        "import pandas as pd\n",
        "\n",
        "df = pd.read_csv('/content/drive/My Drive/DM/carprice.csv')\n",
        "df.describe()\n",
        "X=df[['Mileage','Age(yrs)']]\n",
        "y=df['Sell Price($)']\n",
        "\n",
        "for i in range(1, 4):\n",
        " resampled = resample(df, n_samples=5, random_state= i)\n",
        " re_x = resampled[['Mileage','Age(yrs)']]\n",
        " re_y = resampled['Sell Price($)']  \n",
        " print (\"resampled:\", i,'\\n', resampled, '\\n\\n')"
      ],
      "execution_count": null,
      "outputs": [
        {
          "output_type": "stream",
          "text": [
            "resampled: 1 \n",
            "     Unnamed: 0              Car Model  Mileage  Sell Price($)  Age(yrs)\n",
            "5            5                Audi A5    59000          29400         5\n",
            "11          11  Mercedez Benz C class    79000          21000         7\n",
            "12          12  Mercedez Benz C class    59000          33000         5\n",
            "8            8                Audi A5    91000          12000         8\n",
            "9            9  Mercedez Benz C class    67000          22000         6 \n",
            "\n",
            "\n",
            "resampled: 2 \n",
            "     Unnamed: 0              Car Model  Mileage  Sell Price($)  Age(yrs)\n",
            "8            8                Audi A5    91000          12000         8\n",
            "8            8                Audi A5    91000          12000         8\n",
            "6            6                Audi A5    52000          32000         5\n",
            "11          11  Mercedez Benz C class    79000          21000         7\n",
            "2            2                 BMW X5    57000          26100         5 \n",
            "\n",
            "\n",
            "resampled: 3 \n",
            "     Unnamed: 0              Car Model  Mileage  Sell Price($)  Age(yrs)\n",
            "10          10  Mercedez Benz C class    83000          20000         7\n",
            "8            8                Audi A5    91000          12000         8\n",
            "9            9  Mercedez Benz C class    67000          22000         6\n",
            "3            3                 BMW X5    22500          40000         2\n",
            "8            8                Audi A5    91000          12000         8 \n",
            "\n",
            "\n"
          ],
          "name": "stdout"
        }
      ]
    },
    {
      "cell_type": "code",
      "metadata": {
        "id": "_ShT4iRt7eTj",
        "outputId": "ad9a3f5d-e6cf-4e0b-e01f-9019069bd6eb",
        "colab": {
          "base_uri": "https://localhost:8080/",
          "height": 197
        }
      },
      "source": [
        "# knn : 랜덤 有\n",
        "import pandas as pd \n",
        "df = pd.read_csv('/content/drive/My Drive/DM/carprice.csv')\n",
        "df.head()\n"
      ],
      "execution_count": null,
      "outputs": [
        {
          "output_type": "execute_result",
          "data": {
            "text/html": [
              "<div>\n",
              "<style scoped>\n",
              "    .dataframe tbody tr th:only-of-type {\n",
              "        vertical-align: middle;\n",
              "    }\n",
              "\n",
              "    .dataframe tbody tr th {\n",
              "        vertical-align: top;\n",
              "    }\n",
              "\n",
              "    .dataframe thead th {\n",
              "        text-align: right;\n",
              "    }\n",
              "</style>\n",
              "<table border=\"1\" class=\"dataframe\">\n",
              "  <thead>\n",
              "    <tr style=\"text-align: right;\">\n",
              "      <th></th>\n",
              "      <th>Unnamed: 0</th>\n",
              "      <th>Car Model</th>\n",
              "      <th>Mileage</th>\n",
              "      <th>Sell Price($)</th>\n",
              "      <th>Age(yrs)</th>\n",
              "    </tr>\n",
              "  </thead>\n",
              "  <tbody>\n",
              "    <tr>\n",
              "      <th>0</th>\n",
              "      <td>0</td>\n",
              "      <td>BMW X5</td>\n",
              "      <td>69000</td>\n",
              "      <td>18000</td>\n",
              "      <td>6</td>\n",
              "    </tr>\n",
              "    <tr>\n",
              "      <th>1</th>\n",
              "      <td>1</td>\n",
              "      <td>BMW X5</td>\n",
              "      <td>35000</td>\n",
              "      <td>34000</td>\n",
              "      <td>3</td>\n",
              "    </tr>\n",
              "    <tr>\n",
              "      <th>2</th>\n",
              "      <td>2</td>\n",
              "      <td>BMW X5</td>\n",
              "      <td>57000</td>\n",
              "      <td>26100</td>\n",
              "      <td>5</td>\n",
              "    </tr>\n",
              "    <tr>\n",
              "      <th>3</th>\n",
              "      <td>3</td>\n",
              "      <td>BMW X5</td>\n",
              "      <td>22500</td>\n",
              "      <td>40000</td>\n",
              "      <td>2</td>\n",
              "    </tr>\n",
              "    <tr>\n",
              "      <th>4</th>\n",
              "      <td>4</td>\n",
              "      <td>BMW X5</td>\n",
              "      <td>46000</td>\n",
              "      <td>31500</td>\n",
              "      <td>4</td>\n",
              "    </tr>\n",
              "  </tbody>\n",
              "</table>\n",
              "</div>"
            ],
            "text/plain": [
              "   Unnamed: 0 Car Model  Mileage  Sell Price($)  Age(yrs)\n",
              "0           0    BMW X5    69000          18000         6\n",
              "1           1    BMW X5    35000          34000         3\n",
              "2           2    BMW X5    57000          26100         5\n",
              "3           3    BMW X5    22500          40000         2\n",
              "4           4    BMW X5    46000          31500         4"
            ]
          },
          "metadata": {
            "tags": []
          },
          "execution_count": 14
        }
      ]
    },
    {
      "cell_type": "code",
      "metadata": {
        "id": "DK3ACTe87oQo"
      },
      "source": [
        "# 특성이름으로 불러오기\n",
        "X=df[['Car Model', 'Mileage','Age(yrs)']]"
      ],
      "execution_count": null,
      "outputs": []
    },
    {
      "cell_type": "code",
      "metadata": {
        "id": "5l0m0xod7ueA"
      },
      "source": [
        "# y 변수 지정하기\n",
        "y=df['Sell Price($)']"
      ],
      "execution_count": null,
      "outputs": []
    },
    {
      "cell_type": "code",
      "metadata": {
        "id": "omxuRSEI7uhq",
        "outputId": "35191f65-3776-4cd1-d424-99d452b67ce2",
        "colab": {
          "base_uri": "https://localhost:8080/",
          "height": 615
        }
      },
      "source": [
        "X.info()\n",
        "X_dum = pd.get_dummies(X)\n",
        "X = X_dum\n",
        "X"
      ],
      "execution_count": null,
      "outputs": [
        {
          "output_type": "stream",
          "text": [
            "<class 'pandas.core.frame.DataFrame'>\n",
            "RangeIndex: 13 entries, 0 to 12\n",
            "Data columns (total 3 columns):\n",
            " #   Column     Non-Null Count  Dtype \n",
            "---  ------     --------------  ----- \n",
            " 0   Car Model  13 non-null     object\n",
            " 1   Mileage    13 non-null     int64 \n",
            " 2   Age(yrs)   13 non-null     int64 \n",
            "dtypes: int64(2), object(1)\n",
            "memory usage: 440.0+ bytes\n"
          ],
          "name": "stdout"
        },
        {
          "output_type": "execute_result",
          "data": {
            "text/html": [
              "<div>\n",
              "<style scoped>\n",
              "    .dataframe tbody tr th:only-of-type {\n",
              "        vertical-align: middle;\n",
              "    }\n",
              "\n",
              "    .dataframe tbody tr th {\n",
              "        vertical-align: top;\n",
              "    }\n",
              "\n",
              "    .dataframe thead th {\n",
              "        text-align: right;\n",
              "    }\n",
              "</style>\n",
              "<table border=\"1\" class=\"dataframe\">\n",
              "  <thead>\n",
              "    <tr style=\"text-align: right;\">\n",
              "      <th></th>\n",
              "      <th>Mileage</th>\n",
              "      <th>Age(yrs)</th>\n",
              "      <th>Car Model_Audi A5</th>\n",
              "      <th>Car Model_BMW X5</th>\n",
              "      <th>Car Model_Mercedez Benz C class</th>\n",
              "    </tr>\n",
              "  </thead>\n",
              "  <tbody>\n",
              "    <tr>\n",
              "      <th>0</th>\n",
              "      <td>69000</td>\n",
              "      <td>6</td>\n",
              "      <td>0</td>\n",
              "      <td>1</td>\n",
              "      <td>0</td>\n",
              "    </tr>\n",
              "    <tr>\n",
              "      <th>1</th>\n",
              "      <td>35000</td>\n",
              "      <td>3</td>\n",
              "      <td>0</td>\n",
              "      <td>1</td>\n",
              "      <td>0</td>\n",
              "    </tr>\n",
              "    <tr>\n",
              "      <th>2</th>\n",
              "      <td>57000</td>\n",
              "      <td>5</td>\n",
              "      <td>0</td>\n",
              "      <td>1</td>\n",
              "      <td>0</td>\n",
              "    </tr>\n",
              "    <tr>\n",
              "      <th>3</th>\n",
              "      <td>22500</td>\n",
              "      <td>2</td>\n",
              "      <td>0</td>\n",
              "      <td>1</td>\n",
              "      <td>0</td>\n",
              "    </tr>\n",
              "    <tr>\n",
              "      <th>4</th>\n",
              "      <td>46000</td>\n",
              "      <td>4</td>\n",
              "      <td>0</td>\n",
              "      <td>1</td>\n",
              "      <td>0</td>\n",
              "    </tr>\n",
              "    <tr>\n",
              "      <th>5</th>\n",
              "      <td>59000</td>\n",
              "      <td>5</td>\n",
              "      <td>1</td>\n",
              "      <td>0</td>\n",
              "      <td>0</td>\n",
              "    </tr>\n",
              "    <tr>\n",
              "      <th>6</th>\n",
              "      <td>52000</td>\n",
              "      <td>5</td>\n",
              "      <td>1</td>\n",
              "      <td>0</td>\n",
              "      <td>0</td>\n",
              "    </tr>\n",
              "    <tr>\n",
              "      <th>7</th>\n",
              "      <td>72000</td>\n",
              "      <td>6</td>\n",
              "      <td>1</td>\n",
              "      <td>0</td>\n",
              "      <td>0</td>\n",
              "    </tr>\n",
              "    <tr>\n",
              "      <th>8</th>\n",
              "      <td>91000</td>\n",
              "      <td>8</td>\n",
              "      <td>1</td>\n",
              "      <td>0</td>\n",
              "      <td>0</td>\n",
              "    </tr>\n",
              "    <tr>\n",
              "      <th>9</th>\n",
              "      <td>67000</td>\n",
              "      <td>6</td>\n",
              "      <td>0</td>\n",
              "      <td>0</td>\n",
              "      <td>1</td>\n",
              "    </tr>\n",
              "    <tr>\n",
              "      <th>10</th>\n",
              "      <td>83000</td>\n",
              "      <td>7</td>\n",
              "      <td>0</td>\n",
              "      <td>0</td>\n",
              "      <td>1</td>\n",
              "    </tr>\n",
              "    <tr>\n",
              "      <th>11</th>\n",
              "      <td>79000</td>\n",
              "      <td>7</td>\n",
              "      <td>0</td>\n",
              "      <td>0</td>\n",
              "      <td>1</td>\n",
              "    </tr>\n",
              "    <tr>\n",
              "      <th>12</th>\n",
              "      <td>59000</td>\n",
              "      <td>5</td>\n",
              "      <td>0</td>\n",
              "      <td>0</td>\n",
              "      <td>1</td>\n",
              "    </tr>\n",
              "  </tbody>\n",
              "</table>\n",
              "</div>"
            ],
            "text/plain": [
              "    Mileage  Age(yrs)  ...  Car Model_BMW X5  Car Model_Mercedez Benz C class\n",
              "0     69000         6  ...                 1                                0\n",
              "1     35000         3  ...                 1                                0\n",
              "2     57000         5  ...                 1                                0\n",
              "3     22500         2  ...                 1                                0\n",
              "4     46000         4  ...                 1                                0\n",
              "5     59000         5  ...                 0                                0\n",
              "6     52000         5  ...                 0                                0\n",
              "7     72000         6  ...                 0                                0\n",
              "8     91000         8  ...                 0                                0\n",
              "9     67000         6  ...                 0                                1\n",
              "10    83000         7  ...                 0                                1\n",
              "11    79000         7  ...                 0                                1\n",
              "12    59000         5  ...                 0                                1\n",
              "\n",
              "[13 rows x 5 columns]"
            ]
          },
          "metadata": {
            "tags": []
          },
          "execution_count": 17
        }
      ]
    },
    {
      "cell_type": "code",
      "metadata": {
        "id": "rhAD9G7o71VZ"
      },
      "source": [
        "from sklearn.model_selection import train_test_split\n",
        "\n",
        "#split dataset into train and test data\n",
        "X_train, X_test, y_train, y_test = train_test_split(X, y, random_state = 19)\n",
        "# random_state는 일종의 seed에 해당 \n"
      ],
      "execution_count": null,
      "outputs": []
    },
    {
      "cell_type": "code",
      "metadata": {
        "id": "xt2S5TaQ79-J",
        "outputId": "e34fd25d-0596-42a4-e33a-9d2759b9bbfb",
        "colab": {
          "base_uri": "https://localhost:8080/",
          "height": 34
        }
      },
      "source": [
        "from sklearn.neighbors import KNeighborsClassifier\n",
        "\n",
        "# Create KNN classifier\n",
        "knn = KNeighborsClassifier(n_neighbors=3)\n",
        "\n",
        "# Fit the classifier to the data\n",
        "knn.fit(X_train, y_train)\n",
        "\n",
        "#show first 4 model predictions on the test data\n",
        "knn.predict(X_test)"
      ],
      "execution_count": null,
      "outputs": [
        {
          "output_type": "execute_result",
          "data": {
            "text/plain": [
              "array([12000, 26100, 18000, 31500])"
            ]
          },
          "metadata": {
            "tags": []
          },
          "execution_count": 22
        }
      ]
    },
    {
      "cell_type": "code",
      "metadata": {
        "id": "nibpC2o18aj0",
        "outputId": "18ecef8f-e330-4125-969a-7e79ee9787c0",
        "colab": {
          "base_uri": "https://localhost:8080/",
          "height": 282
        }
      },
      "source": [
        "import matplotlib.pyplot as plt\n",
        "%matplotlib inline\n",
        "plt.scatter(df['Mileage'], df['Sell Price($)'])\n"
      ],
      "execution_count": null,
      "outputs": [
        {
          "output_type": "execute_result",
          "data": {
            "text/plain": [
              "<matplotlib.collections.PathCollection at 0x7f1ea931a3c8>"
            ]
          },
          "metadata": {
            "tags": []
          },
          "execution_count": 23
        },
        {
          "output_type": "display_data",
          "data": {
            "image/png": "[encoded data removed]",
            "text/plain": [
              "<Figure size 432x288 with 1 Axes>"
            ]
          },
          "metadata": {
            "tags": [],
            "needs_background": "light"
          }
        }
      ]
    },
    {
      "cell_type": "code",
      "metadata": {
        "id": "GsINR3Zh8cJ9",
        "outputId": "b0221968-99be-4414-9d43-c1e60f1a2f9e",
        "colab": {
          "base_uri": "https://localhost:8080/",
          "height": 34
        }
      },
      "source": [
        "knn.predict([[52000, 5, 1, 0, 0]])\n"
      ],
      "execution_count": null,
      "outputs": [
        {
          "output_type": "execute_result",
          "data": {
            "text/plain": [
              "array([26100])"
            ]
          },
          "metadata": {
            "tags": []
          },
          "execution_count": 24
        }
      ]
    },
    {
      "cell_type": "code",
      "metadata": {
        "id": "apFC2MMS8tLg",
        "outputId": "7ce85652-6bc5-44f6-ca07-b93c92484613",
        "colab": {
          "base_uri": "https://localhost:8080/",
          "height": 34
        }
      },
      "source": [
        "# 랜덤이 없는 경우\n",
        "import warnings\n",
        "warnings.filterwarnings('ignore')\n",
        "import pandas as pd\n",
        "\n",
        "data = pd.read_csv('/content/drive/My Drive/DM/vote.csv', encoding='utf-8')\n",
        "X=data.drop(columns='vote')\n",
        "y=data[['vote']]\n",
        "\n",
        "from sklearn.model_selection import cross_val_score\n",
        "cross = cross_val_score(knn, X, y, cv=3, scoring = 'accuracy')\n",
        "cross"
      ],
      "execution_count": null,
      "outputs": [
        {
          "output_type": "execute_result",
          "data": {
            "text/plain": [
              "array([0.70422535, 0.67142857, 0.7       ])"
            ]
          },
          "metadata": {
            "tags": []
          },
          "execution_count": 30
        }
      ]
    },
    {
      "cell_type": "code",
      "metadata": {
        "id": "-nr8Za_M87Pl",
        "outputId": "dac59331-523d-4f92-9f79-9af6cf103c07",
        "colab": {
          "base_uri": "https://localhost:8080/",
          "height": 34
        }
      },
      "source": [
        "cross.mean()\n"
      ],
      "execution_count": null,
      "outputs": [
        {
          "output_type": "execute_result",
          "data": {
            "text/plain": [
              "0.6918846411804157"
            ]
          },
          "metadata": {
            "tags": []
          },
          "execution_count": 31
        }
      ]
    },
    {
      "cell_type": "code",
      "metadata": {
        "id": "h-ABGl699kok",
        "outputId": "12f8b2d6-a26f-4c98-b918-ba656ae9e7be",
        "colab": {
          "base_uri": "https://localhost:8080/",
          "height": 197
        }
      },
      "source": [
        "data.head()"
      ],
      "execution_count": null,
      "outputs": [
        {
          "output_type": "execute_result",
          "data": {
            "text/html": [
              "<div>\n",
              "<style scoped>\n",
              "    .dataframe tbody tr th:only-of-type {\n",
              "        vertical-align: middle;\n",
              "    }\n",
              "\n",
              "    .dataframe tbody tr th {\n",
              "        vertical-align: top;\n",
              "    }\n",
              "\n",
              "    .dataframe thead th {\n",
              "        text-align: right;\n",
              "    }\n",
              "</style>\n",
              "<table border=\"1\" class=\"dataframe\">\n",
              "  <thead>\n",
              "    <tr style=\"text-align: right;\">\n",
              "      <th></th>\n",
              "      <th>gender</th>\n",
              "      <th>region</th>\n",
              "      <th>edu</th>\n",
              "      <th>income</th>\n",
              "      <th>age</th>\n",
              "      <th>score_gov</th>\n",
              "      <th>score_progress</th>\n",
              "      <th>score_intention</th>\n",
              "      <th>vote</th>\n",
              "      <th>parties</th>\n",
              "    </tr>\n",
              "  </thead>\n",
              "  <tbody>\n",
              "    <tr>\n",
              "      <th>0</th>\n",
              "      <td>1</td>\n",
              "      <td>4</td>\n",
              "      <td>3</td>\n",
              "      <td>3</td>\n",
              "      <td>3</td>\n",
              "      <td>2</td>\n",
              "      <td>2</td>\n",
              "      <td>4.0</td>\n",
              "      <td>1</td>\n",
              "      <td>2</td>\n",
              "    </tr>\n",
              "    <tr>\n",
              "      <th>1</th>\n",
              "      <td>1</td>\n",
              "      <td>5</td>\n",
              "      <td>2</td>\n",
              "      <td>3</td>\n",
              "      <td>3</td>\n",
              "      <td>2</td>\n",
              "      <td>4</td>\n",
              "      <td>3.0</td>\n",
              "      <td>0</td>\n",
              "      <td>3</td>\n",
              "    </tr>\n",
              "    <tr>\n",
              "      <th>2</th>\n",
              "      <td>1</td>\n",
              "      <td>3</td>\n",
              "      <td>1</td>\n",
              "      <td>2</td>\n",
              "      <td>4</td>\n",
              "      <td>1</td>\n",
              "      <td>3</td>\n",
              "      <td>2.8</td>\n",
              "      <td>1</td>\n",
              "      <td>4</td>\n",
              "    </tr>\n",
              "    <tr>\n",
              "      <th>3</th>\n",
              "      <td>2</td>\n",
              "      <td>1</td>\n",
              "      <td>2</td>\n",
              "      <td>1</td>\n",
              "      <td>3</td>\n",
              "      <td>5</td>\n",
              "      <td>4</td>\n",
              "      <td>2.6</td>\n",
              "      <td>1</td>\n",
              "      <td>1</td>\n",
              "    </tr>\n",
              "    <tr>\n",
              "      <th>4</th>\n",
              "      <td>1</td>\n",
              "      <td>1</td>\n",
              "      <td>1</td>\n",
              "      <td>2</td>\n",
              "      <td>4</td>\n",
              "      <td>4</td>\n",
              "      <td>3</td>\n",
              "      <td>2.4</td>\n",
              "      <td>1</td>\n",
              "      <td>1</td>\n",
              "    </tr>\n",
              "  </tbody>\n",
              "</table>\n",
              "</div>"
            ],
            "text/plain": [
              "   gender  region  edu  income  ...  score_progress  score_intention  vote  parties\n",
              "0       1       4    3       3  ...               2              4.0     1        2\n",
              "1       1       5    2       3  ...               4              3.0     0        3\n",
              "2       1       3    1       2  ...               3              2.8     1        4\n",
              "3       2       1    2       1  ...               4              2.6     1        1\n",
              "4       1       1    1       2  ...               3              2.4     1        1\n",
              "\n",
              "[5 rows x 10 columns]"
            ]
          },
          "metadata": {
            "tags": []
          },
          "execution_count": 32
        }
      ]
    },
    {
      "cell_type": "code",
      "metadata": {
        "id": "Z4w374Uc9sYI",
        "outputId": "3fb1a8ae-9819-4452-87f4-e4169bb21cd4",
        "colab": {
          "base_uri": "https://localhost:8080/",
          "height": 194
        }
      },
      "source": [
        "from sklearn.model_selection import cross_val_predict\n",
        "cross_val_predict(knn, X, y, cv=3)\n"
      ],
      "execution_count": null,
      "outputs": [
        {
          "output_type": "execute_result",
          "data": {
            "text/plain": [
              "array([1, 1, 1, 1, 1, 1, 1, 1, 1, 1, 0, 0, 1, 0, 1, 1, 1, 1, 0, 1, 1, 0,\n",
              "       0, 1, 1, 0, 1, 1, 1, 1, 1, 1, 1, 1, 1, 1, 0, 0, 1, 1, 1, 1, 1, 1,\n",
              "       1, 1, 1, 1, 1, 0, 1, 1, 0, 1, 1, 1, 1, 1, 1, 1, 1, 1, 1, 0, 1, 0,\n",
              "       1, 1, 0, 0, 1, 0, 1, 1, 1, 1, 1, 1, 1, 0, 1, 0, 1, 0, 0, 1, 1, 1,\n",
              "       1, 1, 1, 1, 1, 1, 1, 1, 0, 1, 1, 1, 1, 1, 1, 0, 1, 1, 0, 0, 1, 1,\n",
              "       1, 0, 1, 0, 0, 1, 1, 0, 1, 1, 0, 1, 0, 0, 1, 1, 0, 0, 1, 0, 1, 1,\n",
              "       0, 0, 0, 1, 1, 1, 1, 1, 1, 1, 1, 0, 1, 1, 0, 1, 1, 1, 1, 0, 0, 0,\n",
              "       0, 0, 0, 1, 1, 1, 1, 0, 1, 1, 0, 0, 1, 1, 1, 1, 0, 1, 0, 1, 0, 0,\n",
              "       1, 1, 0, 1, 1, 1, 1, 1, 0, 0, 0, 1, 0, 1, 0, 1, 0, 1, 1, 0, 1, 1,\n",
              "       1, 1, 1, 1, 1, 1, 1, 1, 1, 0, 0, 1, 1])"
            ]
          },
          "metadata": {
            "tags": []
          },
          "execution_count": 33
        }
      ]
    }
  ]
}